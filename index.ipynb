{
 "cells": [
  {
   "cell_type": "markdown",
   "metadata": {},
   "source": [
    "# `PyNeuronToolbox` example usage\n",
    "\n",
    "[**Alex Williams**](http://alexhwilliams.info)\n",
    "\n",
    "This ipython notebook demonstrates how to use [PyNeuron Toolbox](https://github.com/ahwillia/PyNeuron-Toolbox/), along with the [NEURON](http://www.neuron.yale.edu/neuron/) python module, to visualize the propogation of an action potential down an axon and in a model with realistic morphology. NEURON allows you to make visualizations like this with \"shape plots\" (see this tutorial). This demo will show you how to use PyNeuron Toolbox to make similar plots directly in python.\n",
    "\n",
    "### First example: Hodgkin-Huxley model in a cable\n",
    "\n",
    "We'll run a short simulation of a cable with Hodgkin-Huxley currents. The details for running NEURON simulations in python can be found in [Hines et al. (2009)](http://journal.frontiersin.org/Journal/10.3389/neuro.11.001.2009/abstract).\n",
    "\n",
    "We will use two functions from PyNeuron Toolbox, `ez_record` and `ez_convert`, to quickly record the membrane potential in all compartments of our cell. Using these functions is completely optional to making shape plots. Briefly, `ez_record` records the membrane potential for all compartments, and `ez_convert` converts all the `h.Vector()` objects into numpy arrays. The result is a matrix v whose columns are the membrane potential traces for all compartments (the labels for each compartment are returned by `record_v` for reference). These functions can also be used to record other common state variables in Neuron, such as the intracellular calcium concentration.\n",
    "\n",
    "### Second example: Realistic CA1 morphology\n",
    "\n",
    "We'll visualize changes in membrane potential across a neuron with realistic morophology. We will use the morphology of a hippocampal CA1 neuron [(Migliore et al., 2005)](http://senselab.med.yale.edu/ModelDB/ShowModel.cshtml?model=55035&file=/obliques/geo5038804.hoc). For simplicity we populate this model with the Hodgkin-Huxley sodium and potassium channel models. This is not realistic. But it illustrates the plotting capabilities of this toolbox.\n",
    "In addition, the code shows how to use the function `mark_locations` from the morphology toolbox to indicate the location for our current injection.\n"
   ]
  },
  {
   "cell_type": "markdown",
   "metadata": {},
   "source": [
    "### Simulate Hodgkin-Huxley model"
   ]
  },
  {
   "cell_type": "code",
   "execution_count": null,
   "metadata": {
    "collapsed": false
   },
   "outputs": [],
   "source": [
    "from __future__ import division\n",
    "from neuron import h\n",
    "import numpy as np\n",
    "import pylab as plt\n",
    "%matplotlib inline\n",
    "\n",
    "# PyNeuronToolbox imports\n",
    "from PyNeuronToolbox.record import ez_record, ez_convert\n",
    "\n",
    "# create model\n",
    "h.load_file('stdrun.hoc')\n",
    "cell = h.Section()\n",
    "\n",
    "cell.nseg = 11   # It is a good idea to have nseg be an odd number\n",
    "cell.Ra = 35.4   # Ohm*cm\n",
    "\n",
    "cell.insert('hh')\n",
    "\n",
    "# create 3d structure\n",
    "h.pt3dadd(0,0,0,1.0,sec=cell)\n",
    "h.pt3dadd(1732,1732,1732,1.0,sec=cell)\n",
    "\n",
    "# Specify current injection\n",
    "stim = h.IClamp(1.0,sec=cell)\n",
    "stim.delay = 1   # ms\n",
    "stim.dur = 100   # ms\n",
    "stim.amp = 0.2   # nA\n",
    "\n",
    "# Segment positions, equall spaced from 0 to 1\n",
    "seg_positions = np.linspace(0,1,cell.nseg)\n",
    "\n",
    "# Use toolbox to record v\n",
    "# ez_record records v in all compartments by default\n",
    "(v,v_labels) = ez_record(h)\n",
    "\n",
    "# Manually record time and current\n",
    "t, I = h.Vector(), h.Vector()\n",
    "t.record(h._ref_t)\n",
    "I.record(stim._ref_i)\n",
    "\n",
    "# Run the simulation \n",
    "h.init()\n",
    "h.tstop = 25\n",
    "h.run()\n",
    "\n",
    "# Use toolbox convert v into a numpy 2D array\n",
    "v = ez_convert(v) "
   ]
  },
  {
   "cell_type": "markdown",
   "metadata": {},
   "source": [
    "### Create a 3D plot showing the morphology"
   ]
  },
  {
   "cell_type": "code",
   "execution_count": null,
   "metadata": {
    "collapsed": false
   },
   "outputs": [],
   "source": [
    "from PyNeuronToolbox.morphology import shapeplot\n",
    "from mpl_toolkits.mplot3d import Axes3D\n",
    "\n",
    "# Plot shapeplot\n",
    "plt.figure(figsize=(6,6))\n",
    "shapeax = plt.subplot(111, projection='3d')\n",
    "shapeplot(h,shapeax,lw=4)\n",
    "\n",
    "plt.show()"
   ]
  },
  {
   "cell_type": "markdown",
   "metadata": {},
   "source": [
    "### 3D animation showing propagation of action potentials  down cable"
   ]
  },
  {
   "cell_type": "code",
   "execution_count": null,
   "metadata": {
    "collapsed": false
   },
   "outputs": [],
   "source": [
    "# Animation imports\n",
    "from JSAnimation import IPython_display\n",
    "from matplotlib import animation\n",
    "\n",
    "# PyNeuronToolbox function for easy animation\n",
    "from PyNeuronToolbox.morphology import shapeplot_animate\n",
    "\n",
    "# Plot shapeplot (as above)\n",
    "fig = plt.figure(figsize=(6,6))\n",
    "shapeax = plt.subplot(111, projection='3d')\n",
    "shapelines = shapeplot(h,shapeax,lw=4)\n",
    "\n",
    "# Make the animation\n",
    "nframes = 100\n",
    "shape_animate = shapeplot_animate(v,shapelines,nframes)\n",
    "animation.FuncAnimation(fig, shape_animate, frames=nframes, interval=40, blit=True)"
   ]
  },
  {
   "cell_type": "markdown",
   "metadata": {},
   "source": [
    "### Fancier animation, showing voltage traces and 3D shapeplot"
   ]
  },
  {
   "cell_type": "code",
   "execution_count": null,
   "metadata": {
    "collapsed": true
   },
   "outputs": [],
   "source": [
    "fig = plt.figure(figsize=(14,10))\n",
    "\n",
    "# Plot voltage trace for each segment\n",
    "lines = []\n",
    "for i in range(1,cell.nseg+1):\n",
    "    plt.subplot(cell.nseg+1,2,2*(cell.nseg+1-i)-1)\n",
    "    line, = plt.plot([], [], lw=2)\n",
    "    lines.append(line)\n",
    "    plt.ylim([-80,60])\n",
    "    plt.xlim([0,h.tstop])\n",
    "    plt.yticks(np.arange(-80,60,50))\n",
    "    plt.ylabel('v (mV)', fontweight='bold')\n",
    "    plt.xticks(np.arange(0,h.tstop,5))\n",
    "    plt.setp(plt.gca().get_xticklabels(), visible=False)\n",
    "\n",
    "# Plot injected current in bottom trace\n",
    "plt.subplot(cell.nseg+1,2,2*cell.nseg+1)\n",
    "line, = plt.plot([], [], '-r', lw=2)\n",
    "lines.append(line)\n",
    "plt.xlim([0,h.tstop])\n",
    "plt.ylim([-0.05,0.3])\n",
    "plt.yticks([0, 0.2])\n",
    "plt.xlabel('t (ms)', fontweight='bold')\n",
    "plt.ylabel('i (nA)', fontweight='bold')\n",
    "\n",
    "# Plot shapeplot\n",
    "shapeax = plt.subplot(1,2,2, projection='3d')\n",
    "shapelines = shapeplot(h,shapeax,lw=4)\n",
    "\n",
    "# convert 't' and 'i' to lists\n",
    "t = t.to_python()\n",
    "I = I.to_python()\n",
    "\n",
    "# Animate function -- reveal traces, and animate shape plot\n",
    "def animate(i):\n",
    "    # Animate the shape plot\n",
    "    shape_animate(i)\n",
    "    \n",
    "    # Add additional animations\n",
    "    i_t = int((i/nframes)*v.shape[0])\n",
    "    for s in range(v.shape[1]):\n",
    "        lines[s].set_data(t[0:i_t], v[0:i_t,s])  # voltage traces\n",
    "    lines[-1].set_data(t[0:i_t], I[0:i_t])       # current trace\n",
    "\n",
    "# Make animation\n",
    "nframes = 100\n",
    "shape_animate = shapeplot_animate(v,shapelines,nframes)\n",
    "animation.FuncAnimation(fig, animate, frames=nframes, interval=40, blit=True)"
   ]
  },
  {
   "cell_type": "markdown",
   "metadata": {},
   "source": [
    "### Similar example in more complex morphology"
   ]
  },
  {
   "cell_type": "code",
   "execution_count": null,
   "metadata": {
    "collapsed": true
   },
   "outputs": [],
   "source": [
    "%reset -f\n",
    "from __future__ import division\n",
    "from neuron import h\n",
    "import numpy as np\n",
    "import pylab as plt\n",
    "from PyNeuronToolbox.morphology import shapeplot\n",
    "from mpl_toolkits.mplot3d import Axes3D\n",
    "%matplotlib inline\n",
    "\n",
    "# Load morphology from file\n",
    "h('xopen(\"geo5038804.hoc\")')\n",
    "\n",
    "# Plot shapeplot\n",
    "plt.figure(figsize=(7,7))\n",
    "shapeax = plt.subplot(111, projection='3d')\n",
    "shapeax.view_init(75,66)\n",
    "shapeplot(h,shapeax)\n",
    "plt.show()"
   ]
  },
  {
   "cell_type": "markdown",
   "metadata": {},
   "source": [
    "### Run simulation"
   ]
  },
  {
   "cell_type": "code",
   "execution_count": null,
   "metadata": {
    "collapsed": true
   },
   "outputs": [],
   "source": [
    "from PyNeuronToolbox.record import ez_record, ez_convert\n",
    "\n",
    "h.load_file('stdrun.hoc')\n",
    "\n",
    "seclist = list(h.allsec())\n",
    "\n",
    "for sec in seclist:\n",
    "    sec.insert('hh')\n",
    "    sec.Ra = 200.0\n",
    "\n",
    "# Specify current injection\n",
    "stim_sec = seclist[0]\n",
    "stim_loc = 0.0\n",
    "stim = h.IClamp(stim_loc,sec=stim_sec)\n",
    "stim.delay = 0  # ms\n",
    "stim.dur = 1    # ms\n",
    "stim.amp = 20   # nA\n",
    "\n",
    "# Use toolbox to record v\n",
    "# ez_record records v in all compartments by default\n",
    "(v,labels) = ez_record(h)\n",
    "\n",
    "# Manually record time and current\n",
    "t, I = h.Vector(), h.Vector()\n",
    "t.record(h._ref_t)\n",
    "I.record(stim._ref_i)\n",
    "\n",
    "# Run the simulation \n",
    "h.init()\n",
    "h.tstop = 10\n",
    "h.run()\n",
    "\n",
    "# Use toolbox convert v into a numpy 2D array\n",
    "v = ez_convert(v) "
   ]
  },
  {
   "cell_type": "markdown",
   "metadata": {},
   "source": [
    "### 3D animation showing spread of action potential"
   ]
  },
  {
   "cell_type": "code",
   "execution_count": 1,
   "metadata": {
    "collapsed": false
   },
   "outputs": [
    {
     "ename": "NameError",
     "evalue": "name 'plt' is not defined",
     "output_type": "error",
     "traceback": [
      "\u001b[0;31m---------------------------------------------------------------------------\u001b[0m",
      "\u001b[0;31mNameError\u001b[0m                                 Traceback (most recent call last)",
      "\u001b[0;32m<ipython-input-1-c5a07d238251>\u001b[0m in \u001b[0;36m<module>\u001b[0;34m()\u001b[0m\n\u001b[1;32m      7\u001b[0m \u001b[0;34m\u001b[0m\u001b[0m\n\u001b[1;32m      8\u001b[0m \u001b[0;31m# Plot shapeplot (as above)\u001b[0m\u001b[0;34m\u001b[0m\u001b[0;34m\u001b[0m\u001b[0m\n\u001b[0;32m----> 9\u001b[0;31m \u001b[0mfig\u001b[0m \u001b[0;34m=\u001b[0m \u001b[0mplt\u001b[0m\u001b[0;34m.\u001b[0m\u001b[0mfigure\u001b[0m\u001b[0;34m(\u001b[0m\u001b[0mfigsize\u001b[0m\u001b[0;34m=\u001b[0m\u001b[0;34m(\u001b[0m\u001b[0;36m7\u001b[0m\u001b[0;34m,\u001b[0m\u001b[0;36m7\u001b[0m\u001b[0;34m)\u001b[0m\u001b[0;34m)\u001b[0m\u001b[0;34m\u001b[0m\u001b[0m\n\u001b[0m\u001b[1;32m     10\u001b[0m \u001b[0mshapeax\u001b[0m \u001b[0;34m=\u001b[0m \u001b[0mplt\u001b[0m\u001b[0;34m.\u001b[0m\u001b[0msubplot\u001b[0m\u001b[0;34m(\u001b[0m\u001b[0;36m111\u001b[0m\u001b[0;34m,\u001b[0m \u001b[0mprojection\u001b[0m\u001b[0;34m=\u001b[0m\u001b[0;34m'3d'\u001b[0m\u001b[0;34m)\u001b[0m\u001b[0;34m\u001b[0m\u001b[0m\n\u001b[1;32m     11\u001b[0m \u001b[0mshapeax\u001b[0m\u001b[0;34m.\u001b[0m\u001b[0mview_init\u001b[0m\u001b[0;34m(\u001b[0m\u001b[0;36m75\u001b[0m\u001b[0;34m,\u001b[0m\u001b[0;36m66\u001b[0m\u001b[0;34m)\u001b[0m\u001b[0;34m\u001b[0m\u001b[0m\n",
      "\u001b[0;31mNameError\u001b[0m: name 'plt' is not defined"
     ]
    }
   ],
   "source": [
    "# Animation imports\n",
    "from JSAnimation import IPython_display\n",
    "from matplotlib import animation\n",
    "\n",
    "# PyNeuronToolbox imports\n",
    "from PyNeuronToolbox.morphology import shapeplot_animate, mark_locations\n",
    "\n",
    "# Plot shapeplot (as above)\n",
    "fig = plt.figure(figsize=(7,7))\n",
    "shapeax = plt.subplot(111, projection='3d')\n",
    "shapeax.view_init(75,66)\n",
    "shapelines = shapeplot(h,shapeax)\n",
    "plt.title('Current Injected at Red Dot',fontweight='bold')\n",
    "\n",
    "# Now mark the location of our stimulation\n",
    "mark_locations(h,stim_sec,stim_loc)\n",
    "\n",
    "# Make the animation\n",
    "nframes = 100\n",
    "shape_animate = shapeplot_animate(v,shapelines,nframes)\n",
    "animation.FuncAnimation(fig, shape_animate, frames=nframes, interval=40, blit=True)"
   ]
  },
  {
   "cell_type": "code",
   "execution_count": null,
   "metadata": {
    "collapsed": true
   },
   "outputs": [],
   "source": []
  }
 ],
 "metadata": {
  "kernelspec": {
   "display_name": "Python 2",
   "language": "python",
   "name": "python2"
  },
  "language_info": {
   "codemirror_mode": {
    "name": "ipython",
    "version": 2
   },
   "file_extension": ".py",
   "mimetype": "text/x-python",
   "name": "python",
   "nbconvert_exporter": "python",
   "pygments_lexer": "ipython2",
   "version": "2.7.10"
  }
 },
 "nbformat": 4,
 "nbformat_minor": 0
}
